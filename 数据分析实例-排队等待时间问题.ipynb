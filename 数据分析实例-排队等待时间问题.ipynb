{
 "cells": [
  {
   "cell_type": "code",
   "execution_count": null,
   "metadata": {},
   "outputs": [],
   "source": [
    "'''\n",
    "案例二主要是基于“蒙特卡罗思想”，求解排队等待时间问题\n",
    "\n",
    "场景：厕所排队问题\n",
    "1、两场电影结束时间相隔较长，互不影响；\n",
    "2、每场电影结束之后会有20个人想上厕所；\n",
    "3、这20个人会在0到10分钟之内全部到达厕所）；\n",
    "4、每个人上厕所时间在1-3分钟之间\n",
    "首先模拟最简单的情况，也就是厕所只有一个位置，不考虑两人共用的情况则每人必须等上一人出恭完毕方可进行。\n",
    "分析：对于每个人都有如下几个参数：\n",
    "到达时间 / 等待时间 / 开始上厕所时间 / 结束时间\n",
    "\n",
    "课程技术点：\n",
    "随机数 / 循环语句\n",
    "\n",
    "参考文章：\n",
    "《我们进行了1亿次婚恋配对实验，然后...》，链接：http://mp.weixin.qq.com/s/Bu3g6sgoKEGq9M24UWDrmg\n",
    "'''"
   ]
  },
  {
   "cell_type": "code",
   "execution_count": null,
   "metadata": {
    "collapsed": true
   },
   "outputs": [],
   "source": [
    "'''\n",
    "Part1  设置随机值\n",
    "'''"
   ]
  },
  {
   "cell_type": "code",
   "execution_count": 1,
   "metadata": {},
   "outputs": [
    {
     "name": "stdout",
     "output_type": "stream",
     "text": [
      "arrivingtime\n",
      " [0.86634328 0.98186658 1.19171615 2.71012849 3.25204853 4.45018197\n",
      " 4.72906073 4.92133021 5.92318509 6.08301014 6.12439368 7.05961504\n",
      " 7.14940323 7.90975813 7.97704524 7.9835155  9.04921641 9.05557974\n",
      " 9.22505371 9.38346885] \n",
      "\n",
      "workingtime\n",
      " [2.21296718 1.46880771 2.25693449 1.08454285 2.74021112 2.387241\n",
      " 1.73810033 2.00756862 2.40965686 1.59423013 1.66114884 2.58678944\n",
      " 1.71714778 1.29014538 1.52191637 2.51164769 2.89627786 1.68150976\n",
      " 1.01700689 1.58202326] \n",
      "\n",
      "startingtime\n",
      " [0, 0, 0, 0, 0, 0, 0, 0, 0, 0, 0, 0, 0, 0, 0, 0, 0, 0, 0, 0] \n",
      "\n",
      "finishtime\n",
      " [0, 0, 0, 0, 0, 0, 0, 0, 0, 0, 0, 0, 0, 0, 0, 0, 0, 0, 0, 0] \n",
      "\n",
      "waitingtime\n",
      " [0, 0, 0, 0, 0, 0, 0, 0, 0, 0, 0, 0, 0, 0, 0, 0, 0, 0, 0, 0] \n",
      "\n",
      "emptytime\n",
      " [0, 0, 0, 0, 0, 0, 0, 0, 0, 0, 0, 0, 0, 0, 0, 0, 0, 0, 0, 0] \n",
      "\n"
     ]
    }
   ],
   "source": [
    "import numpy as np\n",
    "import pandas as pd\n",
    "import matplotlib.pyplot as plt\n",
    "import seaborn as sns\n",
    "\n",
    "arrivingtime = np.random.uniform(0, 10, size=20)   # 随机数：均匀分布的样本值\n",
    "arrivingtime.sort()\n",
    "workingtime = np.random.uniform(1, 3, size=20)\n",
    "\n",
    "# 开始时间都是0\n",
    "startingtime = [0 for i in range(20)]\n",
    "finishtime = [0 for i in range(20)]\n",
    "waitingtime = [0 for i in range(20)]\n",
    "emptytime = [0 for i in range(20)]\n",
    "\n",
    "print('arrivingtime\\n', arrivingtime, '\\n')\n",
    "print('workingtime\\n', workingtime, '\\n')\n",
    "print('startingtime\\n', startingtime, '\\n')\n",
    "print('finishtime\\n', finishtime, '\\n')\n",
    "print('waitingtime\\n', waitingtime, '\\n')\n",
    "print('emptytime\\n', emptytime, '\\n')"
   ]
  },
  {
   "cell_type": "code",
   "execution_count": null,
   "metadata": {},
   "outputs": [],
   "source": [
    "'''\n",
    "Part2  第一人上厕所时间\n",
    "'''"
   ]
  },
  {
   "cell_type": "code",
   "execution_count": 7,
   "metadata": {
    "collapsed": true
   },
   "outputs": [],
   "source": [
    "startingtime[0] = arrivingtime[0]   # 第一个人之前没有人，所以开始时间 = 到达时间\n",
    "finishtime[0] = startingtime[0] + working[0]   # 第一个人完成时间 = 开始时间 + “工作”时间\n",
    "waitingtime[0] = startingtime[0] - arrivingtime[0]   # 第一个人不用等待"
   ]
  },
  {
   "cell_type": "code",
   "execution_count": null,
   "metadata": {},
   "outputs": [],
   "source": [
    "'''\n",
    "Part3  第二人之后\n",
    "'''"
   ]
  },
  {
   "cell_type": "code",
   "execution_count": 19,
   "metadata": {},
   "outputs": [
    {
     "name": "stdout",
     "output_type": "stream",
     "text": [
      "第1个人：到达时间 开始时间 “工作”时间 完成时间 等待时间\n",
      " 0.9818665750179933 0.9818665750179933 1.4688077139962203 2.4506742890142137 0.0 \n",
      "\n",
      "第2个人：到达时间 开始时间 “工作”时间 完成时间 等待时间\n",
      " 1.1917161465849124 2.4506742890142137 2.2569344915209566 4.70760878053517 1.2589581424293013 \n",
      "\n",
      "第3个人：到达时间 开始时间 “工作”时间 完成时间 等待时间\n",
      " 2.7101284928921743 4.70760878053517 1.0845428469821197 5.79215162751729 1.997480287642996 \n",
      "\n",
      "第4个人：到达时间 开始时间 “工作”时间 完成时间 等待时间\n",
      " 3.252048534261757 5.79215162751729 2.740211117958167 8.532362745475456 2.5401030932555333 \n",
      "\n",
      "第5个人：到达时间 开始时间 “工作”时间 完成时间 等待时间\n",
      " 4.450181969559722 8.532362745475456 2.3872409969493997 10.919603742424856 4.0821807759157345 \n",
      "\n",
      "第6个人：到达时间 开始时间 “工作”时间 完成时间 等待时间\n",
      " 4.729060733624211 10.919603742424856 1.7381003325918678 12.657704075016724 6.1905430088006455 \n",
      "\n",
      "第7个人：到达时间 开始时间 “工作”时间 完成时间 等待时间\n",
      " 4.9213302084751955 12.657704075016724 2.0075686188281123 14.665272693844837 7.736373866541529 \n",
      "\n",
      "第8个人：到达时间 开始时间 “工作”时间 完成时间 等待时间\n",
      " 5.9231850858446125 14.665272693844837 2.409656855163907 17.074929549008743 8.742087608000226 \n",
      "\n",
      "第9个人：到达时间 开始时间 “工作”时间 完成时间 等待时间\n",
      " 6.08301013918574 17.074929549008743 1.5942301337309421 18.669159682739686 10.991919409823003 \n",
      "\n",
      "第10个人：到达时间 开始时间 “工作”时间 完成时间 等待时间\n",
      " 6.124393684091764 18.669159682739686 1.661148841042735 20.33030852378242 12.544765998647922 \n",
      "\n",
      "第11个人：到达时间 开始时间 “工作”时间 完成时间 等待时间\n",
      " 7.0596150381736855 20.33030852378242 2.5867894388747907 22.917097962657213 13.270693485608735 \n",
      "\n",
      "第12个人：到达时间 开始时间 “工作”时间 完成时间 等待时间\n",
      " 7.149403230756816 22.917097962657213 1.7171477833837172 24.63424574604093 15.767694731900397 \n",
      "\n",
      "第13个人：到达时间 开始时间 “工作”时间 完成时间 等待时间\n",
      " 7.90975812592111 24.63424574604093 1.2901453836976478 25.924391129738577 16.724487620119817 \n",
      "\n",
      "第14个人：到达时间 开始时间 “工作”时间 完成时间 等待时间\n",
      " 7.9770452409037285 25.924391129738577 1.5219163675573968 27.446307497295972 17.94734588883485 \n",
      "\n",
      "第15个人：到达时间 开始时间 “工作”时间 完成时间 等待时间\n",
      " 7.983515503132623 27.446307497295972 2.5116476890719674 29.95795518636794 19.46279199416335 \n",
      "\n",
      "第16个人：到达时间 开始时间 “工作”时间 完成时间 等待时间\n",
      " 9.049216414184519 29.95795518636794 2.896277863061955 32.854233049429894 20.90873877218342 \n",
      "\n",
      "第17个人：到达时间 开始时间 “工作”时间 完成时间 等待时间\n",
      " 9.055579743266266 32.854233049429894 1.6815097591057742 34.535742808535666 23.79865330616363 \n",
      "\n",
      "第18个人：到达时间 开始时间 “工作”时间 完成时间 等待时间\n",
      " 9.22505370961186 34.535742808535666 1.017006890668409 35.55274969920408 25.310689098923806 \n",
      "\n",
      "第19个人：到达时间 开始时间 “工作”时间 完成时间 等待时间\n",
      " 9.383468849514934 35.55274969920408 1.5820232629986537 37.13477296220273 26.169280849689144 \n",
      "\n",
      "arerage waiting time is 11.772239\n"
     ]
    },
    {
     "data": {
      "image/png": "[encoded data removed]",
      "text/plain": [
       "<Figure size 360x216 with 1 Axes>"
      ]
     },
     "metadata": {},
     "output_type": "display_data"
    }
   ],
   "source": [
    "# 判断：如果下一个人在上一个人完成之前到达，则 开始时间 = 上一个人完成时间，\n",
    "# 否则：开始时间 = 到达时间，且存在空闲时间 = 到达时间 - 上一个人完成时间\n",
    "for i in range(1, len(arrivingtime)):\n",
    "    if finishtime[i-1] > arrivingtime[i]:\n",
    "        startingtime[i] = finishtime[i-1]\n",
    "    else:\n",
    "        startingtime[i] = arrivingtime[i]\n",
    "        emptytime[i] = arrivingtime[i] - finishtime[i-1]\n",
    "\n",
    "    finishtime[i] = startingtime[i] + workingtime[i]\n",
    "    waitingtime[i] = startingtime[i] - arrivingtime[i]\n",
    "    print('第%d个人：到达时间 开始时间 “工作”时间 完成时间 等待时间\\n' %i,\n",
    "          arrivingtime[i],\n",
    "          startingtime[i],\n",
    "          workingtime[i],\n",
    "          finishtime[i],\n",
    "          waitingtime[i],\n",
    "         '\\n')\n",
    "\n",
    "print('arerage waiting time is %f' %np.mean(waitingtime))\n",
    "\n",
    "%matplotlib inline\n",
    "sns.set(style='ticks')\n",
    "fig = plt.figure(figsize=(5, 3))\n",
    "plt.plot(waitingtime)\n",
    "plt.plot(arrivingtime)\n",
    "plt.plot(startingtime)\n",
    "plt.plot(workingtime)\n",
    "plt.plot(finishtime)\n",
    "plt.grid(True)\n",
    "plt.show()"
   ]
  },
  {
   "cell_type": "code",
   "execution_count": null,
   "metadata": {},
   "outputs": [],
   "source": []
  }
 ],
 "metadata": {
  "anaconda-cloud": {},
  "kernelspec": {
   "display_name": "Python 3",
   "language": "python",
   "name": "python3"
  },
  "language_info": {
   "codemirror_mode": {
    "name": "ipython",
    "version": 3
   },
   "file_extension": ".py",
   "mimetype": "text/x-python",
   "name": "python",
   "nbconvert_exporter": "python",
   "pygments_lexer": "ipython3",
   "version": "3.6.5"
  },
  "toc": {
   "base_numbering": 1,
   "nav_menu": {},
   "number_sections": true,
   "sideBar": true,
   "skip_h1_title": false,
   "title_cell": "Table of Contents",
   "title_sidebar": "Contents",
   "toc_cell": false,
   "toc_position": {},
   "toc_section_display": true,
   "toc_window_display": false
  }
 },
 "nbformat": 4,
 "nbformat_minor": 1
}
