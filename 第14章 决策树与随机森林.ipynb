{
 "cells": [
  {
   "cell_type": "code",
   "execution_count": null,
   "metadata": {},
   "outputs": [],
   "source": [
    "决策树模型函数说明\n",
    "ecisionTreeClassifier(criterion='gini', splitter='best', max_depth=None, \n",
    "                      min_samples_split=2, min_samples_leaf=1, max_leaf_nodes=None, class_weight=None)\n",
    "criterion：用于指定选择节点字段的评价指标，对于分类决策树，默认为'gini'，表示采用基尼指数选择节点的最佳分割字段；\n",
    "           对于回归决策树，默认为'mse'，表示使用均方误差选择节点的最佳分割字段\n",
    "splitter：用于指定节点中的分割点选择方法，默认为'best'，表示从所有的分割点中选择最佳分割点；如果指定为'random'，则表示随机选择分割点\n",
    "max_depth：用于指定决策树的最大深度，默认为None，表示树的生长过程中对深度不做任何限制\n",
    "min_samples_split：用于指定根节点或中间节点能够继续分割的最小样本量， 默认为2\n",
    "min_samples_leaf：用于指定叶节点的最小样本量，默认为1\n",
    "max_leaf_nodes：用于指定最大的叶节点个数，默认为None，表示对叶节点个数不做任何限制\n",
    "class_weight：用于指定因变量中类别之间的权重，默认为None，表示每个类别的权重都相等；如果为balanced，则表示类别权重与原始样本中类别的比例成反比；\n",
    "              还可以通过字典传递类别之间的权重差异，其形式为{class_label:weight}"
   ]
  },
  {
   "cell_type": "code",
   "execution_count": null,
   "metadata": {},
   "outputs": [],
   "source": [
    "随机森林模型函数说明\n",
    "RandomForestClassifier(n_estimators=10, criterion='gini', max_depth=None, min_samples_split=2, min_samples_leaf=1, \n",
    "                       max_leaf_nodes=None, bootstrap=True, class_weight=None)\n",
    "min_samples_leaf：用于指定每棵决策树叶节点的最小样本量，默认为1\n",
    "max_leaf_nodes：用于指定每棵决策树最大的叶节点个数，默认为None，表示对叶节点个数不做任何限制\n",
    "bootstrap：bool类型参数，是否对原始数据集进行bootstrap抽样，用于子树的构建，默认为True\n",
    "class_weight：用于指定因变量中类别之间的权重，默认为None，表示每个类别的权重都相等"
   ]
  },
  {
   "cell_type": "code",
   "execution_count": 1,
   "metadata": {},
   "outputs": [
    {
     "data": {
      "text/html": [
       "<div>\n",
       "<style scoped>\n",
       "    .dataframe tbody tr th:only-of-type {\n",
       "        vertical-align: middle;\n",
       "    }\n",
       "\n",
       "    .dataframe tbody tr th {\n",
       "        vertical-align: top;\n",
       "    }\n",
       "\n",
       "    .dataframe thead th {\n",
       "        text-align: right;\n",
       "    }\n",
       "</style>\n",
       "<table border=\"1\" class=\"dataframe\">\n",
       "  <thead>\n",
       "    <tr style=\"text-align: right;\">\n",
       "      <th></th>\n",
       "      <th>Survived</th>\n",
       "      <th>Pclass</th>\n",
       "      <th>Sex</th>\n",
       "      <th>Age</th>\n",
       "      <th>SibSp</th>\n",
       "      <th>Parch</th>\n",
       "      <th>Fare</th>\n",
       "      <th>Embarked</th>\n",
       "    </tr>\n",
       "  </thead>\n",
       "  <tbody>\n",
       "    <tr>\n",
       "      <th>0</th>\n",
       "      <td>0</td>\n",
       "      <td>3</td>\n",
       "      <td>male</td>\n",
       "      <td>22.000000</td>\n",
       "      <td>1</td>\n",
       "      <td>0</td>\n",
       "      <td>7.2500</td>\n",
       "      <td>S</td>\n",
       "    </tr>\n",
       "    <tr>\n",
       "      <th>4</th>\n",
       "      <td>0</td>\n",
       "      <td>3</td>\n",
       "      <td>male</td>\n",
       "      <td>35.000000</td>\n",
       "      <td>0</td>\n",
       "      <td>0</td>\n",
       "      <td>8.0500</td>\n",
       "      <td>S</td>\n",
       "    </tr>\n",
       "    <tr>\n",
       "      <th>5</th>\n",
       "      <td>0</td>\n",
       "      <td>3</td>\n",
       "      <td>male</td>\n",
       "      <td>30.726645</td>\n",
       "      <td>0</td>\n",
       "      <td>0</td>\n",
       "      <td>8.4583</td>\n",
       "      <td>Q</td>\n",
       "    </tr>\n",
       "    <tr>\n",
       "      <th>6</th>\n",
       "      <td>0</td>\n",
       "      <td>1</td>\n",
       "      <td>male</td>\n",
       "      <td>54.000000</td>\n",
       "      <td>0</td>\n",
       "      <td>0</td>\n",
       "      <td>51.8625</td>\n",
       "      <td>S</td>\n",
       "    </tr>\n",
       "    <tr>\n",
       "      <th>7</th>\n",
       "      <td>0</td>\n",
       "      <td>3</td>\n",
       "      <td>male</td>\n",
       "      <td>2.000000</td>\n",
       "      <td>3</td>\n",
       "      <td>1</td>\n",
       "      <td>21.0750</td>\n",
       "      <td>S</td>\n",
       "    </tr>\n",
       "  </tbody>\n",
       "</table>\n",
       "</div>"
      ],
      "text/plain": [
       "   Survived  Pclass   Sex        Age  SibSp  Parch     Fare Embarked\n",
       "0         0       3  male  22.000000      1      0   7.2500        S\n",
       "4         0       3  male  35.000000      0      0   8.0500        S\n",
       "5         0       3  male  30.726645      0      0   8.4583        Q\n",
       "6         0       1  male  54.000000      0      0  51.8625        S\n",
       "7         0       3  male   2.000000      3      1  21.0750        S"
      ]
     },
     "execution_count": 1,
     "metadata": {},
     "output_type": "execute_result"
    }
   ],
   "source": [
    "# 导入第三方模块\n",
    "import pandas as pd\n",
    "# 读入数据\n",
    "Titanic = pd.read_csv(r'Titanic.csv')\n",
    "Titanic.head()\n",
    "# 删除无意义的变量，并检查剩余自字是否含有缺失值\n",
    "Titanic.drop(['PassengerId','Name','Ticket','Cabin'], axis = 1, inplace = True)\n",
    "Titanic.isnull().sum(axis = 0)\n",
    "\n",
    "# 对Sex分组，用各组乘客的平均年龄填充各组中的缺失年龄\n",
    "fillna_Titanic = []\n",
    "for i in Titanic.Sex.unique():\n",
    "    update = Titanic.loc[Titanic.Sex == i,].fillna(value = {'Age': Titanic.Age[Titanic.Sex == i].mean()})\n",
    "    fillna_Titanic.append(update)\n",
    "Titanic = pd.concat(fillna_Titanic)\n",
    "# 使用Embarked变量的众数填充缺失值\n",
    "Titanic.fillna(value = {'Embarked':Titanic.Embarked.mode()[0]}, inplace=True)\n",
    "Titanic.head()"
   ]
  },
  {
   "cell_type": "code",
   "execution_count": 2,
   "metadata": {},
   "outputs": [
    {
     "data": {
      "text/html": [
       "<div>\n",
       "<style scoped>\n",
       "    .dataframe tbody tr th:only-of-type {\n",
       "        vertical-align: middle;\n",
       "    }\n",
       "\n",
       "    .dataframe tbody tr th {\n",
       "        vertical-align: top;\n",
       "    }\n",
       "\n",
       "    .dataframe thead th {\n",
       "        text-align: right;\n",
       "    }\n",
       "</style>\n",
       "<table border=\"1\" class=\"dataframe\">\n",
       "  <thead>\n",
       "    <tr style=\"text-align: right;\">\n",
       "      <th></th>\n",
       "      <th>Survived</th>\n",
       "      <th>Age</th>\n",
       "      <th>SibSp</th>\n",
       "      <th>Parch</th>\n",
       "      <th>Fare</th>\n",
       "      <th>Sex_female</th>\n",
       "      <th>Sex_male</th>\n",
       "      <th>Embarked_C</th>\n",
       "      <th>Embarked_Q</th>\n",
       "      <th>Embarked_S</th>\n",
       "      <th>Pclass_1</th>\n",
       "      <th>Pclass_2</th>\n",
       "      <th>Pclass_3</th>\n",
       "    </tr>\n",
       "  </thead>\n",
       "  <tbody>\n",
       "    <tr>\n",
       "      <th>0</th>\n",
       "      <td>0</td>\n",
       "      <td>22.000000</td>\n",
       "      <td>1</td>\n",
       "      <td>0</td>\n",
       "      <td>7.2500</td>\n",
       "      <td>0</td>\n",
       "      <td>1</td>\n",
       "      <td>0</td>\n",
       "      <td>0</td>\n",
       "      <td>1</td>\n",
       "      <td>0</td>\n",
       "      <td>0</td>\n",
       "      <td>1</td>\n",
       "    </tr>\n",
       "    <tr>\n",
       "      <th>4</th>\n",
       "      <td>0</td>\n",
       "      <td>35.000000</td>\n",
       "      <td>0</td>\n",
       "      <td>0</td>\n",
       "      <td>8.0500</td>\n",
       "      <td>0</td>\n",
       "      <td>1</td>\n",
       "      <td>0</td>\n",
       "      <td>0</td>\n",
       "      <td>1</td>\n",
       "      <td>0</td>\n",
       "      <td>0</td>\n",
       "      <td>1</td>\n",
       "    </tr>\n",
       "    <tr>\n",
       "      <th>5</th>\n",
       "      <td>0</td>\n",
       "      <td>30.726645</td>\n",
       "      <td>0</td>\n",
       "      <td>0</td>\n",
       "      <td>8.4583</td>\n",
       "      <td>0</td>\n",
       "      <td>1</td>\n",
       "      <td>0</td>\n",
       "      <td>1</td>\n",
       "      <td>0</td>\n",
       "      <td>0</td>\n",
       "      <td>0</td>\n",
       "      <td>1</td>\n",
       "    </tr>\n",
       "    <tr>\n",
       "      <th>6</th>\n",
       "      <td>0</td>\n",
       "      <td>54.000000</td>\n",
       "      <td>0</td>\n",
       "      <td>0</td>\n",
       "      <td>51.8625</td>\n",
       "      <td>0</td>\n",
       "      <td>1</td>\n",
       "      <td>0</td>\n",
       "      <td>0</td>\n",
       "      <td>1</td>\n",
       "      <td>1</td>\n",
       "      <td>0</td>\n",
       "      <td>0</td>\n",
       "    </tr>\n",
       "    <tr>\n",
       "      <th>7</th>\n",
       "      <td>0</td>\n",
       "      <td>2.000000</td>\n",
       "      <td>3</td>\n",
       "      <td>1</td>\n",
       "      <td>21.0750</td>\n",
       "      <td>0</td>\n",
       "      <td>1</td>\n",
       "      <td>0</td>\n",
       "      <td>0</td>\n",
       "      <td>1</td>\n",
       "      <td>0</td>\n",
       "      <td>0</td>\n",
       "      <td>1</td>\n",
       "    </tr>\n",
       "  </tbody>\n",
       "</table>\n",
       "</div>"
      ],
      "text/plain": [
       "   Survived        Age  SibSp  Parch     Fare  Sex_female  Sex_male  \\\n",
       "0         0  22.000000      1      0   7.2500           0         1   \n",
       "4         0  35.000000      0      0   8.0500           0         1   \n",
       "5         0  30.726645      0      0   8.4583           0         1   \n",
       "6         0  54.000000      0      0  51.8625           0         1   \n",
       "7         0   2.000000      3      1  21.0750           0         1   \n",
       "\n",
       "   Embarked_C  Embarked_Q  Embarked_S  Pclass_1  Pclass_2  Pclass_3  \n",
       "0           0           0           1         0         0         1  \n",
       "4           0           0           1         0         0         1  \n",
       "5           0           1           0         0         0         1  \n",
       "6           0           0           1         1         0         0  \n",
       "7           0           0           1         0         0         1  "
      ]
     },
     "execution_count": 2,
     "metadata": {},
     "output_type": "execute_result"
    }
   ],
   "source": [
    "# 将数值型的Pclass转换为类别型，否则无法对其哑变量处理\n",
    "Titanic.Pclass = Titanic.Pclass.astype('category')\n",
    "# 哑变量处理\n",
    "dummy = pd.get_dummies(Titanic[['Sex','Embarked','Pclass']])\n",
    "# 水平合并Titanic数据集和哑变量的数据集\n",
    "Titanic = pd.concat([Titanic,dummy], axis = 1)\n",
    "# 删除原始的Sex、Embarked和Pclass变量\n",
    "Titanic.drop(['Sex','Embarked','Pclass'], inplace=True, axis = 1)\n",
    "Titanic.head()"
   ]
  },
  {
   "cell_type": "code",
   "execution_count": 3,
   "metadata": {},
   "outputs": [],
   "source": [
    "# 导入第三方包\n",
    "from sklearn import model_selection\n",
    "# 取出所有自变量名称\n",
    "predictors = Titanic.columns[1:]\n",
    "# 将数据集拆分为训练集和测试集，且测试集的比例为25%\n",
    "X_train, X_test, y_train, y_test = model_selection.train_test_split(Titanic[predictors], Titanic.Survived, \n",
    "                                                                    test_size = 0.25, random_state = 1234)"
   ]
  },
  {
   "cell_type": "code",
   "execution_count": 6,
   "metadata": {},
   "outputs": [
    {
     "data": {
      "text/plain": [
       "{'max_depth': 3, 'min_samples_leaf': 4, 'min_samples_split': 2}"
      ]
     },
     "execution_count": 6,
     "metadata": {},
     "output_type": "execute_result"
    }
   ],
   "source": [
    "# 导入第三方模块\n",
    "from sklearn.model_selection import GridSearchCV\n",
    "from sklearn import tree\n",
    "# 预设各参数的不同选项值\n",
    "max_depth = [2,3,4,5,6]\n",
    "min_samples_split = [2,4,6,8]\n",
    "min_samples_leaf = [2,4,8,10,12]\n",
    "# 将各参数值以字典形式组织起来\n",
    "parameters = {'max_depth':max_depth, 'min_samples_split':min_samples_split, 'min_samples_leaf':min_samples_leaf}\n",
    "# 网格搜索法，测试不同的参数值\n",
    "grid_dtcateg = GridSearchCV(estimator = tree.DecisionTreeClassifier(), param_grid = parameters, cv=10)\n",
    "# 模型拟合\n",
    "grid_dtcateg.fit(X_train, y_train)\n",
    "# 返回最佳组合的参数值\n",
    "grid_dtcateg.best_params_"
   ]
  },
  {
   "cell_type": "code",
   "execution_count": 7,
   "metadata": {},
   "outputs": [
    {
     "name": "stdout",
     "output_type": "stream",
     "text": [
      "模型在测试集的预测准确率：\n",
      " 0.8295964125560538\n"
     ]
    }
   ],
   "source": [
    "# 导入第三方模块\n",
    "from sklearn import metrics\n",
    "# 构建分类决策树\n",
    "CART_Class = tree.DecisionTreeClassifier(max_depth=3, min_samples_leaf = 4, min_samples_split=2)\n",
    "# 模型拟合\n",
    "decision_tree = CART_Class.fit(X_train, y_train)\n",
    "# 模型在测试集上的预测\n",
    "pred = CART_Class.predict(X_test)\n",
    "# 模型的准确率\n",
    "print('模型在测试集的预测准确率：\\n',metrics.accuracy_score(y_test, pred))"
   ]
  },
  {
   "cell_type": "code",
   "execution_count": 9,
   "metadata": {},
   "outputs": [
    {
     "data": {
      "image/png": "[encoded data removed]",
      "text/plain": [
       "<Figure size 432x288 with 1 Axes>"
      ]
     },
     "metadata": {},
     "output_type": "display_data"
    }
   ],
   "source": [
    "# 导入第三方包\n",
    "import matplotlib.pyplot as plt\n",
    "y_score = CART_Class.predict_proba(X_test)[:,1]\n",
    "fpr,tpr,threshold = metrics.roc_curve(y_test, y_score)\n",
    "# 计算AUC的值\n",
    "roc_auc = metrics.auc(fpr,tpr)\n",
    "\n",
    "# 绘制面积图\n",
    "plt.stackplot(fpr, tpr, color='steelblue', alpha = 0.5, edgecolor = 'black')\n",
    "# 添加边际线\n",
    "plt.plot(fpr, tpr, color='black', lw = 1)\n",
    "# 添加对角线\n",
    "plt.plot([0,1],[0,1], color = 'red', linestyle = '--')\n",
    "# 添加文本信息\n",
    "plt.text(0.5,0.3,'ROC curve (area = %0.2f)' % roc_auc)\n",
    "# 添加x轴与y轴标签\n",
    "plt.xlabel('1-Specificity')\n",
    "plt.ylabel('Sensitivity')\n",
    "# 显示图形\n",
    "plt.show()"
   ]
  },
  {
   "cell_type": "code",
   "execution_count": null,
   "metadata": {},
   "outputs": [],
   "source": [
    "# 需要在电脑中安装Graphviz\n",
    "# https://graphviz.gitlab.io/_pages/Download/Download_windows.html\n",
    "# 然后将解压文件中的bin设置到环境变量中\n",
    "# 导入第三方模块\n",
    "from sklearn.tree import export_graphviz\n",
    "from IPython.display import Image\n",
    "import pydotplus\n",
    "from sklearn.externals.six import StringIO\n",
    "# 绘制决策树\n",
    "dot_data = StringIO()\n",
    "export_graphviz(\n",
    "    decision_tree,\n",
    "    out_file=dot_data,  \n",
    "    feature_names=predictors,\n",
    "    class_names=['Unsurvived','Survived'],  \n",
    "    # filled=True,\n",
    "    rounded=True,  \n",
    "    special_characters=True\n",
    ")\n",
    "# 决策树展现\n",
    "graph = pydotplus.graph_from_dot_data(dot_data.getvalue())\n",
    "Image(graph.create_png()) "
   ]
  },
  {
   "cell_type": "code",
   "execution_count": 10,
   "metadata": {},
   "outputs": [
    {
     "name": "stdout",
     "output_type": "stream",
     "text": [
      "模型在测试集的预测准确率：\n",
      " 0.852017937219731\n"
     ]
    }
   ],
   "source": [
    "# 导入第三方包\n",
    "from sklearn import ensemble\n",
    "# 构建随机森林\n",
    "RF_class = ensemble.RandomForestClassifier(n_estimators=200, random_state=1234)\n",
    "# 随机森林的拟合\n",
    "RF_class.fit(X_train, y_train)\n",
    "# 模型在测试集上的预测\n",
    "RFclass_pred = RF_class.predict(X_test)\n",
    "# 模型的准确率\n",
    "print('模型在测试集的预测准确率：\\n',metrics.accuracy_score(y_test, RFclass_pred))"
   ]
  },
  {
   "cell_type": "code",
   "execution_count": 11,
   "metadata": {},
   "outputs": [
    {
     "data": {
      "image/png": "[encoded data removed]",
      "text/plain": [
       "<Figure size 432x288 with 1 Axes>"
      ]
     },
     "metadata": {},
     "output_type": "display_data"
    }
   ],
   "source": [
    "# 计算绘图数据\n",
    "y_score = RF_class.predict_proba(X_test)[:,1]\n",
    "fpr,tpr,threshold = metrics.roc_curve(y_test, y_score)\n",
    "roc_auc = metrics.auc(fpr,tpr)\n",
    "# 绘图\n",
    "plt.stackplot(fpr, tpr, color='steelblue', alpha = 0.5, edgecolor = 'black')\n",
    "plt.plot(fpr, tpr, color='black', lw = 1)\n",
    "plt.plot([0,1],[0,1], color = 'red', linestyle = '--')\n",
    "plt.text(0.5,0.3,'ROC curve (area = %0.2f)' % roc_auc)\n",
    "plt.xlabel('1-Specificity')\n",
    "plt.ylabel('Sensitivity')\n",
    "plt.show()"
   ]
  },
  {
   "cell_type": "code",
   "execution_count": 12,
   "metadata": {},
   "outputs": [
    {
     "data": {
      "image/png": "[encoded data removed]",
      "text/plain": [
       "<Figure size 432x288 with 1 Axes>"
      ]
     },
     "metadata": {},
     "output_type": "display_data"
    }
   ],
   "source": [
    "# 变量的重要性程度值\n",
    "importance = RF_class.feature_importances_\n",
    "# 构建含序列用于绘图\n",
    "Impt_Series = pd.Series(importance, index = X_train.columns)\n",
    "# 对序列排序绘图\n",
    "Impt_Series.sort_values(ascending = True).plot('barh')\n",
    "plt.show()"
   ]
  },
  {
   "cell_type": "code",
   "execution_count": null,
   "metadata": {},
   "outputs": [],
   "source": []
  }
 ],
 "metadata": {
  "anaconda-cloud": {},
  "kernelspec": {
   "display_name": "Python 3",
   "language": "python",
   "name": "python3"
  },
  "language_info": {
   "codemirror_mode": {
    "name": "ipython",
    "version": 3
   },
   "file_extension": ".py",
   "mimetype": "text/x-python",
   "name": "python",
   "nbconvert_exporter": "python",
   "pygments_lexer": "ipython3",
   "version": "3.6.5"
  },
  "toc": {
   "base_numbering": 1,
   "nav_menu": {},
   "number_sections": true,
   "sideBar": true,
   "skip_h1_title": false,
   "title_cell": "Table of Contents",
   "title_sidebar": "Contents",
   "toc_cell": false,
   "toc_position": {},
   "toc_section_display": true,
   "toc_window_display": false
  }
 },
 "nbformat": 4,
 "nbformat_minor": 1
}
