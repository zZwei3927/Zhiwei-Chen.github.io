{
 "cells": [
  {
   "cell_type": "code",
   "execution_count": null,
   "metadata": {},
   "outputs": [],
   "source": [
    "'''\n",
    "案例一主要是基于“中国人民共和国地市级党委书记数据库(2000-2010)”数据进行数据挖掘，该数据库由\n",
    "复旦大学经济学院陈硕副教授及其团队(Fudan WTF Social Science Lab)成员整理，主要研究问题如下：\n",
    "1、性别构成\n",
    "2、年龄情况、专业情况\n",
    "3、任期情况\n",
    "\n",
    "课程技术点：\n",
    "数据读取及查看 / 数据清洗 / 数据分析 / 图表制作\n",
    "\n",
    "参考文章：\n",
    "《如何成为一位市委书记？》，链接：http://mp.weixin.qq.com/s/K09ybCQGoGzf_ckDGYMfmA\n",
    "'''"
   ]
  },
  {
   "cell_type": "code",
   "execution_count": null,
   "metadata": {},
   "outputs": [],
   "source": [
    "'''\n",
    "Part1  数据读取及查看\n",
    "'''"
   ]
  },
  {
   "cell_type": "code",
   "execution_count": null,
   "metadata": {},
   "outputs": [],
   "source": [
    "# 先将.xls文件导出成.csv文件\n",
    "# 注意：以下一切代码均为英文输入法，包括标点符号等！！\n",
    "\n",
    "import numpy as np   # numpy：科学计算工具包\n",
    "import pandas as pd   # pandas：数据分析工具包\n",
    "import matplotlib.pyplot as plt   # malplotlib：图表绘制工具包\n",
    "import seaborn as sns   # seaborn：图表绘制工具包\n",
    "# 解决中文显示问题\n",
    "plt.rcParams[\"font.sans-serif\"] = ['SimHei', 'Times New Roman']   #字体\n",
    "plt.rcParams['font.family'] = 'sans-serif'   # 风格\n",
    "plt.rcParams[\"axes.unicode_minus\"] = False   # 解决负号'-'显示为方块的问题\n",
    "\n",
    "# 遇到数据读取错误的问题，可能是因为utf-8的空格读不出来，替换掉空格，再检查文件的形式，可能需要再分列\n",
    "data = pd.read_csv(r\"C:\\Users\\WGW\\Desktop\\Jupyter Notebook\\Data\\地市级党委书记数据库（2000-10）.csv\", encoding=\"gbk\", engine='python')\n",
    "print(data)\n",
    "\n",
    "# 加载csv数据，并且将数据赋予data变量\n",
    "# 这里用到了pandas的工具包，读取数据之后的格式为Dataframe，是一种矩阵格式（execl的数据表格其实也是一种矩阵格式）\n",
    "# pyhton中，创造一个变量的方法就是给其赋值，而“=”代表 变量赋值\n",
    "# print()是python最基本的语句之一，代表“打印内容”\n",
    "\n",
    "# 注意，对于读取文件报错情况，可尝试以下方法：\n",
    "# ① excel转csv时，可设置编码为utf-8，并更改参数 → encoding='utf-8'\n",
    "# ② mac导出csv时，可以更改参数 → encoding=\"gb18030\"\n",
    "# ③ 可将文件名改为英文文件名，例如“data.csv”"
   ]
  },
  {
   "cell_type": "code",
   "execution_count": null,
   "metadata": {},
   "outputs": [],
   "source": [
    "print(data.head(10))\n",
    "print('----------')\n",
    "# 查看前十个数据\n",
    "# 这里注意了：python的序号从0开始，所以前十个数据的序号为 0-9\n",
    "# \"print('----------')\" 画一个分隔线\n",
    "\n",
    "print(data[10:20])\n",
    "print('----------')\n",
    "# 查看数据序号10-20个数据（也就是第11至第21个数据）\n",
    "\n",
    "print(data['党委书记姓名'])\n",
    "print('----------')\n",
    "# 查看“党委书记姓名”字段的所有数据"
   ]
  },
  {
   "cell_type": "code",
   "execution_count": null,
   "metadata": {},
   "outputs": [],
   "source": [
    "field = data.columns.tolist()\n",
    "print(type(field))\n",
    "print('----------')\n",
    "print(field)\n",
    "# 创造一个变量field，赋值为数据data的字段\n",
    "# type()是输出数据类型，这里的类型为“列表list”，python核心数据类型之一"
   ]
  },
  {
   "cell_type": "code",
   "execution_count": null,
   "metadata": {},
   "outputs": [],
   "source": [
    "print(data.describe(include=[np.number]))\n",
    "print('----------')\n",
    "# .describe()返回基本数据信息\n",
    "# .describe(include=[np.number])只统计数值类型\n",
    "# ()中没有任何参数时，会默认只统计数值类型的字段内容，包括：计数，平均数，方差，最小值，最大值，四分位数，若其中有字符串数据会报错\n",
    "\n",
    "print(data.describe(include=[np.object]))\n",
    "# 这里代表只统计字符串类型的字段内容：计数，唯一值数量，出现频率最高的内容，最高出现频率"
   ]
  },
  {
   "cell_type": "code",
   "execution_count": null,
   "metadata": {},
   "outputs": [],
   "source": [
    "'''\n",
    "Part2  性别构成\n",
    "'''"
   ]
  },
  {
   "cell_type": "code",
   "execution_count": null,
   "metadata": {},
   "outputs": [],
   "source": [
    "# 市委书记性别比例\n",
    "data_gender = data['性别']   # 新建变量data_gender，赋值所有性别数据\n",
    "print(data_gender.head())\n",
    "print('----------')\n",
    "\n",
    "data_gender_re = data_gender[data_gender.notnull()]    # 删除所有缺失值（NaN），生成新的数据data_gender_re\n",
    "print(data_gender_re.head())\n",
    "print(data_gender_re.unique())   # .unique()表示显示数据的唯一值内容\n",
    "print('----------')\n",
    "\n",
    "count = len(data_gender_re)\n",
    "count_m = len(data_gender_re[data_gender_re == '男'])   # \"==\"代表判断：左边是否等于右边\n",
    "count_w = len(data_gender_re[data_gender_re == '女'])\n",
    "rate_m = count_m/count\n",
    "rate_w = count_w/count\n",
    "print('样本量：' + str(count) + \"\\n\",   # str()：将数值型转换为字符型\n",
    "      '男性样本量：' + str(count_m) + \"\\n\",\n",
    "      '女性样本量：' + str(count_w) + \"\\n\",\n",
    "      '男性比例：' + str(rate_m*100)[:4] + '%' + \"\\n\",\n",
    "      '女性比例：' + str(rate_w*100)[:4] + '%')\n",
    "print('----------')"
   ]
  },
  {
   "cell_type": "code",
   "execution_count": null,
   "metadata": {},
   "outputs": [],
   "source": [
    "count = len(data)   # 计算市委书记总人数\n",
    "count_w = len(data[data['性别'] == '女'])   # 计算女性市委书记总人数\n",
    "rate_w = count_w/count   # 计算女性市委书记比例\n",
    "print(\"女性市委数据比例为：%.2f%%\" % (rate_w*100))  # 结果输出"
   ]
  },
  {
   "cell_type": "code",
   "execution_count": null,
   "metadata": {},
   "outputs": [],
   "source": [
    "# 按省份分析市委书记女性比例\n",
    "data_gender2 = data[['省级政区名称','性别']]   # 新建变量data_gender2，字段包括省份、性别\n",
    "data_gender2_re = data_gender2[data_gender2['性别'].notnull()]   # 去除缺失值\n",
    "print(data_gender2_re.head())\n",
    "print('----------')\n",
    "\n",
    "pt = pd.crosstab(data_gender2_re['省级政区名称'], data_gender2_re['性别'])   # crosstab(行，列)用于针对字符串数据的透视（类似excel的数据透视）\n",
    "print(pt.head())\n",
    "print('----------')\n",
    "\n",
    "pt['女性占比'] =  pt['女'] / (pt['女'] + pt['男'])   # 这里直接在pt数据中添加了一个新的字段“女性占比”\n",
    "pt2 = pt.sort_values(by=['女性占比'], ascending=False)   # sort_values()排序，ascending=False表示降序\n",
    "print(pt2.head(10))\n",
    "print('----------')"
   ]
  },
  {
   "cell_type": "code",
   "execution_count": null,
   "metadata": {},
   "outputs": [],
   "source": [
    "# 绘制图表1：不同省份女性市委书记占比\n",
    "fig_q1_1 = plt.figure(figsize=(10, 4))   # 创建一个图表，大小为8*4\n",
    "\n",
    "index = pt2.index[:10]\n",
    "# 创建柱形图\n",
    "plt.bar(range(10),   # 横坐标\n",
    "        pt2['女性占比'][:10],   # 纵坐标\n",
    "        tick_label = index,   # 横轴标签\n",
    "        color = 'gray' )   # 颜色\n",
    "plt.title('不同省份女性市委书记占比')\n",
    "plt.xlabel('省份')\n",
    "plt.ylabel('女性占比')\n",
    "plt.show()"
   ]
  },
  {
   "cell_type": "code",
   "execution_count": null,
   "metadata": {},
   "outputs": [],
   "source": [
    "# Seaborn可视化 - 柱状图\n",
    "sns.set(style=\"white\", context=\"notebook\", font='simhei')   # 设置风格，seaborn有5种基本风格，context表示环境，font表示字体\n",
    "fig = plt.figure(figsize=(10, 4))\n",
    "\n",
    "# 设定x，y值\n",
    "x = ['Liaoning','Shanxi','Jilin','Shanxi_m','Sichuan','Anhui','Jiangxi','Shandong','Fujian','Yunnan']\n",
    "pt2['女性占比百分数'] = pt2['女性占比'] * 100\n",
    "y = pt2[:10]['女性占比百分数'].tolist()\n",
    "\n",
    "# 数据可视化：柱状图\n",
    "# palette:调色板\n",
    "# 离散型：6个默认的颜色循环主题： deep, muted, pastel, bright, dark, colorblind。\n",
    "# 连续型：色彩随数据变换，比如数据越来越重要则颜色越来越深。(只用在颜色加s即可)，如果想要翻转渐变，可以在面板名称中添加一个_r后缀。\n",
    "sns.barplot(x, y, palette=\"BuPu_r\")\n",
    "plt.title('Percentage of Women leaders')\n",
    "plt.ylabel('Per %')\n",
    "sns.despine(bottom=True)\n",
    "plt.show()"
   ]
  },
  {
   "cell_type": "code",
   "execution_count": null,
   "metadata": {},
   "outputs": [],
   "source": [
    "# 绘制图表2：女性市委书记占比结构\n",
    "fig_q1_2 = plt.figure(figsize=(4, 4))   # 创建一个图表，大小为4*4\n",
    "\n",
    "# 创建箱型图：四分位数，上下边缘值（非最大最小值），异常值\n",
    "plt.boxplot(pt2['女性占比'],   # 值\n",
    "            vert=True,   # true：纵向，false：横向\n",
    "            showmeans=True)   # 显示均值\n",
    "plt.title('女性市委书记占比结构')\n",
    "plt.xticks([])\n",
    "plt.ylabel('女性占比')\n",
    "plt.show()"
   ]
  },
  {
   "cell_type": "code",
   "execution_count": null,
   "metadata": {},
   "outputs": [],
   "source": [
    "# 绘制图表2：女性市委书记占比结构\n",
    "# Seaborn可视化 - 箱线图、小提琴图\n",
    "import seaborn as sns\n",
    "sns.set(style=\"ticks\", context=\"notebook\", font='simhei')   # 设置风格，seaborn有5种基本风格，context表示环境，font表示字体\n",
    "\n",
    "# 设定x，y值\n",
    "x = ['Percentage of Women leaders_structure']\n",
    "y = pt2['女性占比'].tolist()\n",
    "\n",
    "fig = plt.figure(figsize=(6, 4))\n",
    "sns.boxplot(data=y, palette=\"Greens\")   # 箱型图\n",
    "# sns.violinplot(data=y, palette=\"Oranges\")   # 小提琴图\n",
    "plt.title('Percentage of Women leaders')\n",
    "plt.ylabel('Per %')\n",
    "sns.despine(bottom=True)\n",
    "plt.show()"
   ]
  },
  {
   "cell_type": "code",
   "execution_count": null,
   "metadata": {},
   "outputs": [],
   "source": [
    "'''\n",
    "Part3  年龄、专业情况\n",
    "'''"
   ]
  },
  {
   "cell_type": "code",
   "execution_count": null,
   "metadata": {},
   "outputs": [],
   "source": [
    "# 年龄情况：整体年龄分布 / 入职年龄分布 / 卸任年龄分布\n",
    "data_age = data[['出生年份', '党委书记姓名', '年份']]   # 新建变量data_age，赋值包括年份、出生年份字段内容\n",
    "data_age_re = data_age[data_age['出生年份'].notnull()]   # 清除缺失值\n",
    "print(data_age_re.head())\n",
    "print(data_age_re['出生年份'].unique())\n",
    "print(data_age_re.describe())\n",
    "print('----------')\n",
    "\n",
    "df1 = 2020 - data_age_re['出生年份']   # 计算出整体年龄数据\n",
    "print(df1.head())\n",
    "print('----------')\n",
    "\n",
    "df_yearmin = data_age_re[['党委书记姓名', '年份']].groupby(data_age_re['党委书记姓名']).min()   # 计算出入职年龄数据\n",
    "df2 = df_yearmin['年份'].groupby(df_yearmin['年份']).count()\n",
    "print(df2)\n",
    "print('----------')\n",
    "\n",
    "df_yearmax = data_age_re[['党委书记姓名', '年份']].groupby(data_age_re['党委书记姓名']).max()   # 计算出卸任年龄数据\n",
    "df3 = df_yearmax['年份'].groupby(df_yearmax['年份']).count()\n",
    "print(df3)\n",
    "print('----------')"
   ]
  },
  {
   "cell_type": "code",
   "execution_count": null,
   "metadata": {},
   "outputs": [],
   "source": [
    "# 专业情况：专业结构 / 专业整体情况 / 专业大类分布 \n",
    "# 新建变量data_major，赋值包括年份、专业等字段内容，其中1代表是，0代表否\n",
    "data_major = data[['党委书记姓名', '年份', '专业：人文', '专业：社科', '专业：理工', '专业：农科', '专业：医科']]\n",
    "data_major_re = data_major[data_major['专业：人文'].notnull()]   # 清除缺失值\n",
    "print(data_major_re.head())\n",
    "print(data_major_re.describe())\n",
    "print('----------')\n",
    "\n",
    "# 统计每个人的专业\n",
    "data_major_re['专业'] = data_major_re[['专业：人文', '专业：社科', '专业：理工', '专业：农科', '专业：医科']].idxmax(axis=1)\n",
    "print(data_major_re.head())\n",
    "print('----------')\n",
    "\n",
    "data_major_st = data_major_re[['专业','党委书记姓名']].drop_duplicates()   # 去重\n",
    "print(data_major_st.head())\n",
    "print('----------')\n",
    "\n",
    "df4 = data_major_st['专业'].groupby(data_major_st['专业']).count()   # 计算出学历结构数据\n",
    "print(df4)\n",
    "print('----------')\n",
    "\n",
    "df5 = pd.crosstab(data_major_re['年份'], data_major_re['专业'])   # 计算每年专业整体情况数据\n",
    "print(df5)\n",
    "print('----------')\n",
    "\n",
    "# 计算每年专业大类分布数据\n",
    "df5['社科比例'] = df5['专业：社科'] / (df5['专业：理工'] + df5['专业：医科'] + df5['专业：社科'] + df5['专业：农科'] + df5['专业：人文'])\n",
    "df5['人文比例'] = df5['专业：人文'] / (df5['专业：理工'] + df5['专业：医科'] + df5['专业：社科'] + df5['专业：农科'] + df5['专业：人文'])\n",
    "df5['理工农医比例'] = (df5['专业：理工'] + df5['专业：医科'] + df5['专业：农科']) / (df5['专业：理工'] + df5['专业：医科'] + df5['专业：社科'] + df5['专业：农科'] + df5['专业：人文'])\n",
    "print(df5[['社科比例', '人文比例', '理工农医比例']])\n",
    "print('----------')"
   ]
  },
  {
   "cell_type": "code",
   "execution_count": null,
   "metadata": {
    "scrolled": true
   },
   "outputs": [],
   "source": [
    "# 年龄情况：图表绘制\n",
    "fig_q2 = plt.figure(figsize=(16, 8))   # 创建一个图表，大小为16*8\n",
    "\n",
    "# 创建一个3*2的表格矩阵\n",
    "ax1 = fig_q2.add_subplot(2, 3, 1)\n",
    "ax2 = fig_q2.add_subplot(2, 3, 2)\n",
    "ax3 = fig_q2.add_subplot(2, 3, 3)\n",
    "ax4 = fig_q2.add_subplot(2, 3, 4)\n",
    "ax5 = fig_q2.add_subplot(2, 3, 5)\n",
    "ax6 = fig_q2.add_subplot(2, 3, 6)\n",
    "\n",
    "# 绘制第一个表格，hist(x轴，直方图个数，颜色，透明度)：直方图\n",
    "ax1.hist(df1, bins=11, color='gray', alpha=0.9)\n",
    "ax1.set_title('整体年龄分布')\n",
    "ax1.grid(True)\n",
    "\n",
    "# 绘制第二个表格，plot(x轴，颜色，点型，线型，透明度)：折线图\n",
    "ax2.plot(df2, color='r', marker='o', alpha=0.9)\n",
    "ax2.set_title('入职年龄分布')\n",
    "ax2.set_xticks(range(2000, 2011, 2))\n",
    "ax2.grid(True)\n",
    "\n",
    "# 绘制第三个表格\n",
    "ax3.plot(df3, color='g', marker='o', alpha=0.9)\n",
    "ax3.set_title('卸任年龄分布')\n",
    "ax3.set_xticks(range(2000, 2011, 2))\n",
    "ax3.grid(True)\n",
    "\n",
    "# 绘制第四个表格，柱形图：bar(x,y)\n",
    "ax4.bar(range(len(df4)), df4, color='y')\n",
    "ax4.set_xticklabels(['人文', '农科', '医科', '理工', '社科'])\n",
    "ax4.grid(True)\n",
    "ax4.set_title('专业结构')\n",
    "\n",
    "# 绘制第五个表格，plot(x,y)\n",
    "ax5.plot(df5.index, df5[['专业：人文', '专业：农科', '专业：医科', '专业：理工', '专业：社科']])\n",
    "ax5.grid(True)\n",
    "ax5.set_title('专业整体情况')\n",
    "\n",
    "# 绘制第六个表格\n",
    "ax6.bar(df5.index, df5['社科比例'], color='darkred', alpha=0.7)\n",
    "ax6.bar(df5.index, df5['人文比例'], color='darkred', bottom=df5['社科比例'], alpha=0.5)\n",
    "ax6.bar(df5.index, df5['理工农医比例'], color='darkred', bottom=df5['人文比例']+df5['社科比例'], alpha=0.3)\n",
    "ax6.grid(True)\n",
    "ax6.set_title('专业大类分布：社科、人文、理工农医')\n",
    "\n",
    "plt.show()"
   ]
  },
  {
   "cell_type": "code",
   "execution_count": null,
   "metadata": {},
   "outputs": [],
   "source": [
    "# 绘制图表1：整体年龄分布（Seaborn可视化）\n",
    "sns.set(context=\"notebook\")   # 设置风格，seaborn有5种基本风格，context表示环境\n",
    "x = df1.astype(int).tolist()\n",
    "sns.distplot(x, bins=15, kde=True)\n",
    "plt.show()"
   ]
  },
  {
   "cell_type": "code",
   "execution_count": null,
   "metadata": {},
   "outputs": [],
   "source": [
    "'''\n",
    "Part4  任期情况\n",
    "'''"
   ]
  },
  {
   "cell_type": "code",
   "execution_count": null,
   "metadata": {},
   "outputs": [],
   "source": [
    "# 这里研究一下出生年份和任期的关系\n",
    "data_term = data[['年份', '党委书记姓名', '出生年份']]   # 新建变量data_term，赋值包括年份、姓名、出生年份字段内容\n",
    "data_term_re = data_term[data_term['出生年份'].notnull()]   # 清除缺失值\n",
    "print(data_term_re.head())\n",
    "print(data_term_re['出生年份'].unique())\n",
    "print('----------')\n",
    "\n",
    "year_max = data_term_re[['出生年份','年份']].groupby(data_term_re['党委书记姓名']).max()   # 统计每个党委书记任期年份最大值，且更改列名\n",
    "year_max.rename(columns={'年份':'年份max'}, inplace=True)\n",
    "year_max['姓名'] = year_max.index   # 将index提取出字段内容\n",
    "year_min = data_term_re[['出生年份','年份']].groupby(data_term_re['党委书记姓名']).min()   # 统计每个党委书记任期年份最小值，且更改列名\n",
    "year_min.rename(columns={'年份':'年份min'}, inplace=True)\n",
    "year_min['姓名'] = year_min.index   # 将index提取出字段内容\n",
    "data_term_fin = pd.merge(year_max, year_min)   # 合并表格，默认重叠重复列名\n",
    "print(data_term_fin.head())\n",
    "print(data_term_fin.dtypes)   # .dtypes查看字段类型 → 年份均为int\n",
    "print('----------')\n",
    "\n",
    "data_term_fin['任期'] = data_term_fin['年份max'] - data_term_fin['年份min']   # 计算任期\n",
    "print(data_term_fin.head())\n",
    "print('----------')"
   ]
  },
  {
   "cell_type": "code",
   "execution_count": null,
   "metadata": {},
   "outputs": [],
   "source": [
    "# 绘制图表1：任期与出生年份关系\n",
    "fig_q3_1 = plt.figure(figsize=(8, 4))   # 创建一个图表，大小为8*4\n",
    "\n",
    "# 创建散点图，aplha代表透明度 → 点颜色叠加，s代表点大小\n",
    "plt.scatter(data_term_fin['出生年份'], data_term_fin['任期'], color='black', alpha=0.2, s=10)\n",
    "plt.title('任期与出生年份关系')\n",
    "plt.xlabel('出生年份')\n",
    "plt.ylabel('任期（年）')\n",
    "plt.grid(True)   # grid添加网格\n",
    "plt.show()"
   ]
  },
  {
   "cell_type": "code",
   "execution_count": null,
   "metadata": {},
   "outputs": [],
   "source": [
    "# Seaborn可视化 - 混合散点图\n",
    "sns.set(style=\"ticks\", context=\"notebook\", font='simhei')   # 设置风格，seaborn有5种基本风格，context表示环境，font表示字体\n",
    "fig = plt.figure(figsize=(6, 5))   # 创建一个图表，大小为6*5\n",
    "\n",
    "# 设定x，y值\n",
    "x = data_term_fin['任期']\n",
    "y = data_term_fin['出生年份']\n",
    "\n",
    "# 数据可视化：混合散点图\n",
    "sns.jointplot(x, y, alpha=0.2)\n",
    "sns.jointplot(x, y, kind=\"hex\")   # 散点直方图\n",
    "plt.show()"
   ]
  },
  {
   "cell_type": "code",
   "execution_count": null,
   "metadata": {},
   "outputs": [],
   "source": [
    "# 绘制图表2：任期与出生年份关系 - 热图\n",
    "fig_q3_2 = plt.figure(figsize=(8, 4))   # 创建一个图表，大小为8*4\n",
    "\n",
    "# 交叉表crosstab：可以按照指定的行和列统计分组频数，用起来非常方便；当然同样的功能也可采用groupby实现。\n",
    "df = pd.crosstab(data_term_fin['任期'], data_term_fin['出生年份'])   # 整合数据\n",
    "print(df.head())\n",
    "print('----------')\n",
    "\n",
    "ax = fig_q3_2.add_subplot(111)\n",
    "# 创建热图，横坐标为出生年份，纵坐标为任期\n",
    "cax = ax.pcolor(df, cmap='Blues')   # 行在下\n",
    "# cax = ax.matshow(df, cmap='Blues_r')   # 行在上\n",
    "fig_q3_2.colorbar(cax)   # 图例\n",
    "plt.title('任期与出生年份关系 - 热图')\n",
    "ax.set_xticklabels(data_term_fin['出生年份'].tolist())\n",
    "plt.show()"
   ]
  },
  {
   "cell_type": "code",
   "execution_count": null,
   "metadata": {},
   "outputs": [],
   "source": [
    "# Seaborn可视化 - 热图\n",
    "sns.set(style=\"ticks\", context=\"notebook\", font='simhei')   # 设置风格，seaborn有5种基本风格，context表示环境，font表示字体\n",
    "fig_q3_2 = plt.figure(figsize=(10, 6))   # 创建一个图表，大小为10*6\n",
    "\n",
    "df = pd.crosstab(data_term_fin['任期'], data_term_fin['出生年份'])   # 整合数据\n",
    "# 创建热图，横坐标为出生年份，纵坐标为任期\n",
    "sns.heatmap(df, annot=True, fmt=\"d\", linewidths=0.2, linecolor='k')\n",
    "plt.show()"
   ]
  }
 ],
 "metadata": {
  "anaconda-cloud": {},
  "kernelspec": {
   "display_name": "Python 3",
   "language": "python",
   "name": "python3"
  },
  "language_info": {
   "codemirror_mode": {
    "name": "ipython",
    "version": 3
   },
   "file_extension": ".py",
   "mimetype": "text/x-python",
   "name": "python",
   "nbconvert_exporter": "python",
   "pygments_lexer": "ipython3",
   "version": "3.6.5"
  },
  "toc": {
   "base_numbering": 1,
   "nav_menu": {},
   "number_sections": true,
   "sideBar": true,
   "skip_h1_title": false,
   "title_cell": "Table of Contents",
   "title_sidebar": "Contents",
   "toc_cell": false,
   "toc_position": {},
   "toc_section_display": true,
   "toc_window_display": false
  }
 },
 "nbformat": 4,
 "nbformat_minor": 1
}
