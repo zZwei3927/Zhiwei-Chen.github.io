{
 "cells": [
  {
   "cell_type": "code",
   "execution_count": null,
   "metadata": {},
   "outputs": [],
   "source": [
    "为解决多元线性回归模型中可能存在的矩阵不可逆问题，统计学家提出了岭回归模型，\n",
    "该模型解决问题的思路就是在线性回归模型的目标函数之上添加l2正则项（也成为了惩罚项）。\n",
    "\n",
    "岭回归模型（ᵰ值的确定--交叉验证法）\n",
    "RidgeCV(alphas=(0.1, 1.0, 10.0), fit_intercept=True, normalize=False, scoring=None, cv=None)\n",
    "alphas：用于指定多个lambda值的元组或数组对象，默认该参数包含0.1、1和10三种值。\n",
    "fit_intercept：bool类型参数，是否需要拟合截距项，默认为True。\n",
    "normalize：bool类型参数，建模时是否需要对数据集做标准化处理，默认为False。\n",
    "scoring：指定用于评估模型的度量方法。\n",
    "cv：指定交叉验证的重数"
   ]
  },
  {
   "cell_type": "code",
   "execution_count": 1,
   "metadata": {},
   "outputs": [],
   "source": [
    "# 导入第三方模块\n",
    "import pandas as pd\n",
    "import numpy as np\n",
    "from sklearn import model_selection\n",
    "from sklearn.linear_model import Ridge,RidgeCV\n",
    "import matplotlib.pyplot as plt\n",
    "\n",
    "# 读取糖尿病数据集\n",
    "diabetes = pd.read_excel(r'diabetes.xlsx', sep = '')\n",
    "# 构造自变量（剔除患者性别、年龄和因变量）\n",
    "predictors = diabetes.columns[2:-1]\n",
    "# 将数据集拆分为训练集和测试集\n",
    "X_train, X_test, y_train, y_test = model_selection.train_test_split(diabetes[predictors], diabetes['Y'], \n",
    "                                                                    test_size = 0.2, random_state = 1234 )"
   ]
  },
  {
   "cell_type": "code",
   "execution_count": 2,
   "metadata": {},
   "outputs": [
    {
     "data": {
      "text/plain": [
       "0.013509935211980266"
      ]
     },
     "execution_count": 2,
     "metadata": {},
     "output_type": "execute_result"
    }
   ],
   "source": [
    "# 构造不同的Lambda值\n",
    "Lambdas = np.logspace(-5, 2, 200)\n",
    "# 岭回归模型的交叉验证\n",
    "# 设置交叉验证的参数，对于每一个Lambda值，都执行10重交叉验证\n",
    "ridge_cv = RidgeCV(alphas = Lambdas, normalize=True, scoring='neg_mean_squared_error', cv = 10)\n",
    "# 模型拟合\n",
    "ridge_cv.fit(X_train, y_train)\n",
    "# 返回最佳的lambda值\n",
    "ridge_best_Lambda = ridge_cv.alpha_\n",
    "ridge_best_Lambda"
   ]
  },
  {
   "cell_type": "code",
   "execution_count": 3,
   "metadata": {},
   "outputs": [
    {
     "data": {
      "text/plain": [
       "53.12361694661971"
      ]
     },
     "execution_count": 3,
     "metadata": {},
     "output_type": "execute_result"
    }
   ],
   "source": [
    "# 导入第三方包中的函数\n",
    "from sklearn.metrics import mean_squared_error\n",
    "# 基于最佳的Lambda值建模\n",
    "ridge = Ridge(alpha = ridge_best_Lambda, normalize=True)\n",
    "ridge.fit(X_train, y_train)\n",
    "# 返回岭回归系数\n",
    "pd.Series(index = ['Intercept'] + X_train.columns.tolist(),data = [ridge.intercept_] + ridge.coef_.tolist())\n",
    "# 预测\n",
    "ridge_predict = ridge.predict(X_test)\n",
    "# 预测效果验证\n",
    "RMSE = np.sqrt(mean_squared_error(y_test,ridge_predict))\n",
    "RMSE"
   ]
  },
  {
   "cell_type": "code",
   "execution_count": null,
   "metadata": {},
   "outputs": [],
   "source": [
    "岭回归模型解决线性回归模型中矩阵XX'不可逆的办法是添加l2正则的惩罚项，但缺陷在于市中保持建模时的所有变量，无法减低模型的复杂度。\n",
    "对于此，Lasso回归采用了l1正则的惩罚项。\n",
    "\n",
    "Lasso回归模型（ᵰ值的确定--交叉验证法）\n",
    "LassoCV(alphas=None, fit_intercept=True, normalize=False,\n",
    "　　　　max_iter=1000, tol=0.0001)\n",
    "alphas：指定具体的Lambda值列表用于模型的运算\n",
    "fit_intercept：bool类型参数，是否需要拟合截距项，默认为True\n",
    "normalize：bool类型参数，建模时是否需要对数据集做标准化处理，默认为False\n",
    "max_iter：指定模型最大的迭代次数，默认为1000次"
   ]
  },
  {
   "cell_type": "code",
   "execution_count": 4,
   "metadata": {},
   "outputs": [
    {
     "data": {
      "text/plain": [
       "0.06294988990221888"
      ]
     },
     "execution_count": 4,
     "metadata": {},
     "output_type": "execute_result"
    }
   ],
   "source": [
    "# 导入第三方模块中的函数\n",
    "from sklearn.linear_model import Lasso,LassoCV\n",
    "# LASSO回归模型的交叉验证\n",
    "lasso_cv = LassoCV(alphas = Lambdas, normalize=True, cv = 10, max_iter=10000)\n",
    "lasso_cv.fit(X_train, y_train)\n",
    "# 输出最佳的lambda值\n",
    "lasso_best_alpha = lasso_cv.alpha_\n",
    "lasso_best_alpha"
   ]
  },
  {
   "cell_type": "code",
   "execution_count": 5,
   "metadata": {},
   "outputs": [
    {
     "data": {
      "text/plain": [
       "53.06143725822573"
      ]
     },
     "execution_count": 5,
     "metadata": {},
     "output_type": "execute_result"
    }
   ],
   "source": [
    "# 基于最佳的lambda值建模\n",
    "lasso = Lasso(alpha = lasso_best_alpha, normalize=True, max_iter=10000)\n",
    "lasso.fit(X_train, y_train)\n",
    "# 返回LASSO回归的系数\n",
    "pd.Series(index = ['Intercept'] + X_train.columns.tolist(),data = [lasso.intercept_] + lasso.coef_.tolist())\n",
    "\n",
    "# 预测\n",
    "lasso_predict = lasso.predict(X_test)\n",
    "# 预测效果验证\n",
    "RMSE = np.sqrt(mean_squared_error(y_test,lasso_predict))\n",
    "RMSE"
   ]
  },
  {
   "cell_type": "code",
   "execution_count": 6,
   "metadata": {},
   "outputs": [
    {
     "data": {
      "text/plain": [
       "53.426239397229935"
      ]
     },
     "execution_count": 6,
     "metadata": {},
     "output_type": "execute_result"
    }
   ],
   "source": [
    "# 导入第三方模块\n",
    "from statsmodels import api as sms\n",
    "# 为自变量X添加常数列1，用于拟合截距项\n",
    "X_train2 = sms.add_constant(X_train)\n",
    "X_test2 = sms.add_constant(X_test)\n",
    "\n",
    "# 构建多元线性回归模型\n",
    "linear = sms.OLS(y_train, X_train2).fit()\n",
    "# 返回线性回归模型的系数\n",
    "linear.params\n",
    "\n",
    "# 模型的预测\n",
    "linear_predict = linear.predict(X_test2)\n",
    "# 预测效果验证\n",
    "RMSE = np.sqrt(mean_squared_error(y_test,linear_predict))\n",
    "RMSE"
   ]
  },
  {
   "cell_type": "code",
   "execution_count": null,
   "metadata": {},
   "outputs": [],
   "source": []
  }
 ],
 "metadata": {
  "kernelspec": {
   "display_name": "Python 3",
   "language": "python",
   "name": "python3"
  },
  "language_info": {
   "codemirror_mode": {
    "name": "ipython",
    "version": 3
   },
   "file_extension": ".py",
   "mimetype": "text/x-python",
   "name": "python",
   "nbconvert_exporter": "python",
   "pygments_lexer": "ipython3",
   "version": "3.6.5"
  },
  "toc": {
   "base_numbering": 1,
   "nav_menu": {},
   "number_sections": true,
   "sideBar": true,
   "skip_h1_title": false,
   "title_cell": "Table of Contents",
   "title_sidebar": "Contents",
   "toc_cell": false,
   "toc_position": {},
   "toc_section_display": true,
   "toc_window_display": false
  }
 },
 "nbformat": 4,
 "nbformat_minor": 1
}
